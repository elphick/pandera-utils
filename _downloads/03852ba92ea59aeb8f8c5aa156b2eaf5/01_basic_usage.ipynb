{
  "cells": [
    {
      "cell_type": "markdown",
      "metadata": {},
      "source": [
        "\n# Basic usage\n\nA simple example demonstrating how to use `pandera_utils`.\n"
      ]
    },
    {
      "cell_type": "code",
      "execution_count": null,
      "metadata": {
        "collapsed": false
      },
      "outputs": [],
      "source": [
        "import inspect\n\nimport pandas as pd\nfrom pathlib import Path\nimport yaml\nfrom elphick.pandera_utils.pandera_utils import load_schema_from_yaml, DataFrameMetaProcessor\n\n__file__ = Path(inspect.getfile(inspect.currentframe())).resolve()"
      ]
    },
    {
      "cell_type": "markdown",
      "metadata": {},
      "source": [
        "## Load Schema\nLoad the schema from the YAML file\n\n"
      ]
    },
    {
      "cell_type": "code",
      "execution_count": null,
      "metadata": {
        "collapsed": false
      },
      "outputs": [],
      "source": [
        "yaml_path = __file__.parents[1] / \"assets/example_schema.yaml\"\nschema = load_schema_from_yaml(yaml_path)\n\n# Print the YAML file in a nicely formatted way\nwith open(yaml_path, \"r\", encoding=\"utf-8\") as f:\n    schema_yaml = yaml.safe_load(f)\n    print(yaml.dump(schema_yaml, sort_keys=False, indent=2))"
      ]
    },
    {
      "cell_type": "markdown",
      "metadata": {},
      "source": [
        "## Create a sample DataFrame\n\n"
      ]
    },
    {
      "cell_type": "code",
      "execution_count": null,
      "metadata": {
        "collapsed": false
      },
      "outputs": [],
      "source": [
        "dataframe = pd.DataFrame({\n    \"col1\": [1, 2, 3],\n    \"column2\": [0.546, 1.568, 2.578],\n})\n\n# preserve a copy for comparison later\ndataframe_copy = dataframe.copy(deep=True)\n\ndataframe"
      ]
    },
    {
      "cell_type": "markdown",
      "metadata": {},
      "source": [
        "## Initialize\nInitialize the DataFrameMetaProcessor with the schema\n\n"
      ]
    },
    {
      "cell_type": "code",
      "execution_count": null,
      "metadata": {
        "collapsed": false
      },
      "outputs": [],
      "source": [
        "processor = DataFrameMetaProcessor(schema)"
      ]
    },
    {
      "cell_type": "markdown",
      "metadata": {},
      "source": [
        "## Rename Aliases\n\n"
      ]
    },
    {
      "cell_type": "code",
      "execution_count": null,
      "metadata": {
        "collapsed": false
      },
      "outputs": [],
      "source": [
        "df_with_alias = processor.apply_rename_from_alias(dataframe)\ndf_with_alias"
      ]
    },
    {
      "cell_type": "markdown",
      "metadata": {},
      "source": [
        "## Apply calculations\n\n"
      ]
    },
    {
      "cell_type": "code",
      "execution_count": null,
      "metadata": {
        "collapsed": false
      },
      "outputs": [],
      "source": [
        "df_with_calculations = processor.apply_calculations(df_with_alias)\ndf_with_calculations"
      ]
    },
    {
      "cell_type": "markdown",
      "metadata": {},
      "source": [
        "## Apply rounding\n\n"
      ]
    },
    {
      "cell_type": "code",
      "execution_count": null,
      "metadata": {
        "collapsed": false
      },
      "outputs": [],
      "source": [
        "df_with_decimals = processor.apply_rounding(df_with_calculations)\ndf_with_decimals"
      ]
    },
    {
      "cell_type": "markdown",
      "metadata": {},
      "source": [
        "## One Step Preprocessing\nPreprocess the DataFrame, with alias renaming, rounding, and calculations.\nIf metadata: decimals is not null, the column will be rounded to that number of decimal places after the other\npreprocessing steps.\nWhen set to True, the round_before_calc argument will round the DataFrame before applying calculations,\nas well as after.\n\n"
      ]
    },
    {
      "cell_type": "code",
      "execution_count": null,
      "metadata": {
        "collapsed": false
      },
      "outputs": [],
      "source": [
        "processed_df = processor.preprocess(dataframe_copy, round_before_calc=False)\nprocessed_df"
      ]
    },
    {
      "cell_type": "markdown",
      "metadata": {},
      "source": [
        "We can check that the individual steps are equivalent to the one-step preprocessing\n\n"
      ]
    },
    {
      "cell_type": "code",
      "execution_count": null,
      "metadata": {
        "collapsed": false
      },
      "outputs": [],
      "source": [
        "assert processed_df.equals(df_with_decimals)"
      ]
    },
    {
      "cell_type": "markdown",
      "metadata": {},
      "source": [
        "## Validate\nValidate the DataFrame using Pandera\n\n"
      ]
    },
    {
      "cell_type": "code",
      "execution_count": null,
      "metadata": {
        "collapsed": false
      },
      "outputs": [],
      "source": [
        "validated_df = processor.validate(processed_df)\nvalidated_df"
      ]
    }
  ],
  "metadata": {
    "kernelspec": {
      "display_name": "Python 3",
      "language": "python",
      "name": "python3"
    },
    "language_info": {
      "codemirror_mode": {
        "name": "ipython",
        "version": 3
      },
      "file_extension": ".py",
      "mimetype": "text/x-python",
      "name": "python",
      "nbconvert_exporter": "python",
      "pygments_lexer": "ipython3",
      "version": "3.12.9"
    }
  },
  "nbformat": 4,
  "nbformat_minor": 0
}