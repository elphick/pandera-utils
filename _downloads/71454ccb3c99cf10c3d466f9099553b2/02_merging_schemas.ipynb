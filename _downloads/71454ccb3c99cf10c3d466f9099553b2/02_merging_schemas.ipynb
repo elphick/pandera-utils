{
  "cells": [
    {
      "cell_type": "markdown",
      "metadata": {},
      "source": [
        "\n# Merging Schemas\n\nIn this example, we will demonstrate how to merge multiple schemas\n"
      ]
    },
    {
      "cell_type": "code",
      "execution_count": null,
      "metadata": {
        "collapsed": false
      },
      "outputs": [],
      "source": [
        "import inspect\nfrom pathlib import Path\n\nimport yaml\n\nfrom elphick.pandera_utils.pandera_utils import load_schema_from_yaml, merge_schemas\nfrom elphick.pandera_utils.utils.pandera_io_pandas_io import to_yaml\n\n__file__ = Path(inspect.getfile(inspect.currentframe())).resolve()\n\n\ndef print_schemafile(filepath: Path):\n    with open(filepath, \"r\", encoding=\"utf-8\") as f:\n        schema_yaml = yaml.safe_load(f)\n        print(yaml.dump(schema_yaml, sort_keys=False, indent=2))"
      ]
    },
    {
      "cell_type": "markdown",
      "metadata": {},
      "source": [
        "## Load Schemas\nLoad and view the schemas from the YAML files\n\n"
      ]
    },
    {
      "cell_type": "code",
      "execution_count": null,
      "metadata": {
        "collapsed": false
      },
      "outputs": [],
      "source": [
        "schema_filepath_1: Path = __file__.parents[1] / \"assets/aliases_schema.yaml\"\nschema_filepath_2: Path = __file__.parents[1] / \"assets/category_schema.yaml\"\nschema_filepath_3: Path = __file__.parents[1] / \"assets/missing_sentinels_schema.yaml\""
      ]
    },
    {
      "cell_type": "code",
      "execution_count": null,
      "metadata": {
        "collapsed": false
      },
      "outputs": [],
      "source": [
        "print_schemafile(schema_filepath_1)"
      ]
    },
    {
      "cell_type": "code",
      "execution_count": null,
      "metadata": {
        "collapsed": false
      },
      "outputs": [],
      "source": [
        "print_schemafile(schema_filepath_2)"
      ]
    },
    {
      "cell_type": "code",
      "execution_count": null,
      "metadata": {
        "collapsed": false
      },
      "outputs": [],
      "source": [
        "print_schemafile(schema_filepath_3)"
      ]
    },
    {
      "cell_type": "markdown",
      "metadata": {},
      "source": [
        "## Merge Schemas\nMerge the schemas into a single schema\n\n"
      ]
    },
    {
      "cell_type": "code",
      "execution_count": null,
      "metadata": {
        "collapsed": false
      },
      "outputs": [],
      "source": [
        "schema_1 = load_schema_from_yaml(schema_filepath_1)\nschema_2 = load_schema_from_yaml(schema_filepath_2)\nschema_3 = load_schema_from_yaml(schema_filepath_3)\nmerged_schema = merge_schemas([schema_1, schema_2, schema_3])"
      ]
    },
    {
      "cell_type": "markdown",
      "metadata": {},
      "source": [
        "Print the merged schema in a nicely formatted way\nuse a temp file (formatting workaround only)\n\n"
      ]
    },
    {
      "cell_type": "code",
      "execution_count": null,
      "metadata": {
        "collapsed": false
      },
      "outputs": [],
      "source": [
        "print(to_yaml(merged_schema))"
      ]
    }
  ],
  "metadata": {
    "kernelspec": {
      "display_name": "Python 3",
      "language": "python",
      "name": "python3"
    },
    "language_info": {
      "codemirror_mode": {
        "name": "ipython",
        "version": 3
      },
      "file_extension": ".py",
      "mimetype": "text/x-python",
      "name": "python",
      "nbconvert_exporter": "python",
      "pygments_lexer": "ipython3",
      "version": "3.12.9"
    }
  },
  "nbformat": 4,
  "nbformat_minor": 0
}